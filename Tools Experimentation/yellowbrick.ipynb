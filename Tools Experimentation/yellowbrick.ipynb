{
 "cells": [
  {
   "cell_type": "code",
   "execution_count": null,
   "metadata": {},
   "outputs": [
    {
     "ename": "",
     "evalue": "",
     "output_type": "error",
     "traceback": [
      "\u001b[1;31mRunning cells with 'Python 3.8.16 ('yellowenv')' requires ipykernel package.\n",
      "\u001b[1;31mRun the following command to install 'ipykernel' into the Python environment. \n",
      "\u001b[1;31mCommand: 'conda install -n yellowenv ipykernel --update-deps --force-reinstall'"
     ]
    }
   ],
   "source": [
    "from yellowbrick.datasets.loaders import load_occupancy\n",
    "import warnings\n",
    "warnings.filterwarnings('ignore')\n",
    "X, y = load_occupancy()"
   ]
  },
  {
   "cell_type": "code",
   "execution_count": null,
   "metadata": {},
   "outputs": [],
   "source": []
  }
 ],
 "metadata": {
  "kernelspec": {
   "display_name": "Python 3.8.16 ('yellowenv')",
   "language": "python",
   "name": "python3"
  },
  "language_info": {
   "codemirror_mode": {
    "name": "ipython",
    "version": 3
   },
   "file_extension": ".py",
   "mimetype": "text/x-python",
   "name": "python",
   "nbconvert_exporter": "python",
   "pygments_lexer": "ipython3",
   "version": "3.8.16"
  },
  "orig_nbformat": 4,
  "vscode": {
   "interpreter": {
    "hash": "609c39bc6170474386f2c82eb7cd45ed4f0e1d4473b208cc0cd734b2978a8c6e"
   }
  }
 },
 "nbformat": 4,
 "nbformat_minor": 2
}
