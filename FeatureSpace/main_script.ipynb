{
 "cells": [
  {
   "cell_type": "code",
   "execution_count": 1,
   "metadata": {},
   "outputs": [],
   "source": [
    "import pandas as pd\n",
    "from datetime import datetime"
   ]
  },
  {
   "cell_type": "markdown",
   "metadata": {},
   "source": [
    "# Data Exploration"
   ]
  },
  {
   "cell_type": "code",
   "execution_count": 2,
   "metadata": {},
   "outputs": [
    {
     "data": {
      "text/html": [
       "<div>\n",
       "<style scoped>\n",
       "    .dataframe tbody tr th:only-of-type {\n",
       "        vertical-align: middle;\n",
       "    }\n",
       "\n",
       "    .dataframe tbody tr th {\n",
       "        vertical-align: top;\n",
       "    }\n",
       "\n",
       "    .dataframe thead th {\n",
       "        text-align: right;\n",
       "    }\n",
       "</style>\n",
       "<table border=\"1\" class=\"dataframe\">\n",
       "  <thead>\n",
       "    <tr style=\"text-align: right;\">\n",
       "      <th></th>\n",
       "      <th>account</th>\n",
       "      <th>date</th>\n",
       "      <th>fraud</th>\n",
       "      <th>merchant</th>\n",
       "    </tr>\n",
       "  </thead>\n",
       "  <tbody>\n",
       "    <tr>\n",
       "      <th>0</th>\n",
       "      <td>A0</td>\n",
       "      <td>2015-01-01</td>\n",
       "      <td>False</td>\n",
       "      <td>M98</td>\n",
       "    </tr>\n",
       "    <tr>\n",
       "      <th>1</th>\n",
       "      <td>A0</td>\n",
       "      <td>2015-01-01</td>\n",
       "      <td>False</td>\n",
       "      <td>M50</td>\n",
       "    </tr>\n",
       "    <tr>\n",
       "      <th>2</th>\n",
       "      <td>A0</td>\n",
       "      <td>2015-01-01</td>\n",
       "      <td>False</td>\n",
       "      <td>M55</td>\n",
       "    </tr>\n",
       "    <tr>\n",
       "      <th>3</th>\n",
       "      <td>A0</td>\n",
       "      <td>2015-01-01</td>\n",
       "      <td>False</td>\n",
       "      <td>M14</td>\n",
       "    </tr>\n",
       "    <tr>\n",
       "      <th>4</th>\n",
       "      <td>A0</td>\n",
       "      <td>2015-01-01</td>\n",
       "      <td>False</td>\n",
       "      <td>M10</td>\n",
       "    </tr>\n",
       "    <tr>\n",
       "      <th>...</th>\n",
       "      <td>...</td>\n",
       "      <td>...</td>\n",
       "      <td>...</td>\n",
       "      <td>...</td>\n",
       "    </tr>\n",
       "    <tr>\n",
       "      <th>89846</th>\n",
       "      <td>A998</td>\n",
       "      <td>2015-01-30</td>\n",
       "      <td>False</td>\n",
       "      <td>M70</td>\n",
       "    </tr>\n",
       "    <tr>\n",
       "      <th>89847</th>\n",
       "      <td>A998</td>\n",
       "      <td>2015-01-30</td>\n",
       "      <td>False</td>\n",
       "      <td>M67</td>\n",
       "    </tr>\n",
       "    <tr>\n",
       "      <th>89848</th>\n",
       "      <td>A999</td>\n",
       "      <td>2015-01-30</td>\n",
       "      <td>False</td>\n",
       "      <td>M59</td>\n",
       "    </tr>\n",
       "    <tr>\n",
       "      <th>89849</th>\n",
       "      <td>A999</td>\n",
       "      <td>2015-01-30</td>\n",
       "      <td>False</td>\n",
       "      <td>M42</td>\n",
       "    </tr>\n",
       "    <tr>\n",
       "      <th>89850</th>\n",
       "      <td>A999</td>\n",
       "      <td>2015-01-30</td>\n",
       "      <td>False</td>\n",
       "      <td>M75</td>\n",
       "    </tr>\n",
       "  </tbody>\n",
       "</table>\n",
       "<p>89851 rows × 4 columns</p>\n",
       "</div>"
      ],
      "text/plain": [
       "      account        date  fraud merchant\n",
       "0          A0  2015-01-01  False      M98\n",
       "1          A0  2015-01-01  False      M50\n",
       "2          A0  2015-01-01  False      M55\n",
       "3          A0  2015-01-01  False      M14\n",
       "4          A0  2015-01-01  False      M10\n",
       "...       ...         ...    ...      ...\n",
       "89846    A998  2015-01-30  False      M70\n",
       "89847    A998  2015-01-30  False      M67\n",
       "89848    A999  2015-01-30  False      M59\n",
       "89849    A999  2015-01-30  False      M42\n",
       "89850    A999  2015-01-30  False      M75\n",
       "\n",
       "[89851 rows x 4 columns]"
      ]
     },
     "execution_count": 2,
     "metadata": {},
     "output_type": "execute_result"
    }
   ],
   "source": [
    "transactions = pd.read_csv(\"data/input_data/PreInterviewTaskData.csv\", index_col = False)\n",
    "transactions"
   ]
  },
  {
   "cell_type": "code",
   "execution_count": 3,
   "metadata": {},
   "outputs": [
    {
     "name": "stdout",
     "output_type": "stream",
     "text": [
      "<class 'pandas.core.frame.DataFrame'>\n",
      "RangeIndex: 89851 entries, 0 to 89850\n",
      "Data columns (total 4 columns):\n",
      " #   Column    Non-Null Count  Dtype \n",
      "---  ------    --------------  ----- \n",
      " 0   account   89851 non-null  object\n",
      " 1   date      89851 non-null  object\n",
      " 2   fraud     89851 non-null  bool  \n",
      " 3   merchant  89851 non-null  object\n",
      "dtypes: bool(1), object(3)\n",
      "memory usage: 2.1+ MB\n"
     ]
    }
   ],
   "source": [
    "transactions.info()"
   ]
  },
  {
   "cell_type": "code",
   "execution_count": 4,
   "metadata": {},
   "outputs": [
    {
     "data": {
      "text/plain": [
       "False    88503\n",
       "True      1348\n",
       "Name: fraud, dtype: int64"
      ]
     },
     "execution_count": 4,
     "metadata": {},
     "output_type": "execute_result"
    }
   ],
   "source": [
    "# Labels distribution\n",
    "transactions['fraud'].value_counts()"
   ]
  },
  {
   "cell_type": "code",
   "execution_count": 5,
   "metadata": {},
   "outputs": [
    {
     "name": "stdout",
     "output_type": "stream",
     "text": [
      "There are 100 distinct merchants\n",
      "There are 1000 distinct accounts\n"
     ]
    }
   ],
   "source": [
    "print(\"There are {} distinct merchants\".format(transactions['merchant'].drop_duplicates().shape[0]))\n",
    "print(\"There are {} distinct accounts\".format(transactions['account'].drop_duplicates().shape[0]))"
   ]
  },
  {
   "cell_type": "code",
   "execution_count": 6,
   "metadata": {},
   "outputs": [
    {
     "data": {
      "text/plain": [
       "merchant\n",
       "M8     998\n",
       "M61    966\n",
       "M83    956\n",
       "M87    951\n",
       "M48    946\n",
       "      ... \n",
       "M86    843\n",
       "M14    842\n",
       "M42    839\n",
       "M17    837\n",
       "M98    830\n",
       "Name: date, Length: 100, dtype: int64"
      ]
     },
     "execution_count": 6,
     "metadata": {},
     "output_type": "execute_result"
    }
   ],
   "source": [
    "# Number of transactions per merchant\n",
    "transactions.groupby(['merchant'])['date'].count().sort_values(ascending = False)"
   ]
  },
  {
   "cell_type": "code",
   "execution_count": 7,
   "metadata": {},
   "outputs": [
    {
     "name": "stdout",
     "output_type": "stream",
     "text": [
      "2015-01-01 2015-01-30\n"
     ]
    },
    {
     "data": {
      "text/plain": [
       "<AxesSubplot: xlabel='date'>"
      ]
     },
     "execution_count": 7,
     "metadata": {},
     "output_type": "execute_result"
    },
    {
     "data": {
      "image/png": "[encoded data removed]",
      "text/plain": [
       "<Figure size 1200x400 with 1 Axes>"
      ]
     },
     "metadata": {},
     "output_type": "display_data"
    }
   ],
   "source": [
    "# Transactions plot\n",
    "print(transactions['date'].min(), transactions['date'].max())\n",
    "transactions.groupby(['date'])['account'].count().plot.line(figsize = [12,4])"
   ]
  },
  {
   "cell_type": "code",
   "execution_count": 8,
   "metadata": {},
   "outputs": [
    {
     "data": {
      "text/plain": [
       "<AxesSubplot: title={'center': 'Fraudulent transactions'}, xlabel='date'>"
      ]
     },
     "execution_count": 8,
     "metadata": {},
     "output_type": "execute_result"
    },
    {
     "data": {
      "image/png": "[encoded data removed]",
      "text/plain": [
       "<Figure size 1600x400 with 1 Axes>"
      ]
     },
     "metadata": {},
     "output_type": "display_data"
    }
   ],
   "source": [
    "# Fraudulent transactions\n",
    "transactions[transactions['fraud'] == True].groupby(['date'])['account'].count().plot.line(figsize = [16,4], title = \"Fraudulent transactions\")"
   ]
  },
  {
   "cell_type": "code",
   "execution_count": 9,
   "metadata": {},
   "outputs": [
    {
     "data": {
      "text/plain": [
       "date\n",
       "2015-01-01     28\n",
       "2015-01-02     30\n",
       "2015-01-03     29\n",
       "2015-01-04     20\n",
       "2015-01-05     28\n",
       "2015-01-06     41\n",
       "2015-01-07     34\n",
       "2015-01-08     27\n",
       "2015-01-09     16\n",
       "2015-01-10     34\n",
       "2015-01-11     41\n",
       "2015-01-12     31\n",
       "2015-01-13     25\n",
       "2015-01-14     25\n",
       "2015-01-15     27\n",
       "2015-01-16     28\n",
       "2015-01-17     35\n",
       "2015-01-18     29\n",
       "2015-01-19     41\n",
       "2015-01-20     34\n",
       "2015-01-21    184\n",
       "2015-01-22    188\n",
       "2015-01-23    179\n",
       "2015-01-24     22\n",
       "2015-01-25     15\n",
       "2015-01-26     37\n",
       "2015-01-27     17\n",
       "2015-01-28     36\n",
       "2015-01-29     35\n",
       "2015-01-30     32\n",
       "Name: account, dtype: int64"
      ]
     },
     "execution_count": 9,
     "metadata": {},
     "output_type": "execute_result"
    }
   ],
   "source": [
    "# Fraudulent transactions (time-series)\n",
    "transactions[transactions['fraud'] == True].groupby(['date'])['account'].count()"
   ]
  },
  {
   "cell_type": "code",
   "execution_count": 10,
   "metadata": {},
   "outputs": [
    {
     "name": "stdout",
     "output_type": "stream",
     "text": [
      "There are in total 1000 disticnt accounts\n",
      "There are in total 617 defrauded accounts\n"
     ]
    }
   ],
   "source": [
    "print(\"There are in total {} disticnt accounts\".format(transactions['account'].drop_duplicates().shape[0]))\n",
    "defrauded_accounts = transactions[transactions['fraud'] == True]['account'].drop_duplicates()\n",
    "print(\"There are in total {} defrauded accounts\".format(defrauded_accounts.shape[0]))"
   ]
  },
  {
   "cell_type": "code",
   "execution_count": 11,
   "metadata": {},
   "outputs": [
    {
     "name": "stdout",
     "output_type": "stream",
     "text": [
      "<class 'pandas.core.frame.DataFrame'>\n",
      "RangeIndex: 89851 entries, 0 to 89850\n",
      "Data columns (total 5 columns):\n",
      " #   Column        Non-Null Count  Dtype         \n",
      "---  ------        --------------  -----         \n",
      " 0   account       89851 non-null  object        \n",
      " 1   date          89851 non-null  object        \n",
      " 2   fraud         89851 non-null  bool          \n",
      " 3   merchant      89851 non-null  object        \n",
      " 4   date_as_date  89851 non-null  datetime64[ns]\n",
      "dtypes: bool(1), datetime64[ns](1), object(3)\n",
      "memory usage: 2.8+ MB\n"
     ]
    }
   ],
   "source": [
    "# Data as type datetime\n",
    "transactions['date_as_date'] = transactions['date'].apply(lambda x : datetime.strptime(x, '%Y-%m-%d').date())\n",
    "transactions['date_as_date'] = pd.to_datetime(transactions['date_as_date'], errors='coerce')\n",
    "transactions.info()"
   ]
  },
  {
   "cell_type": "markdown",
   "metadata": {},
   "source": [
    "# Final Approach"
   ]
  },
  {
   "cell_type": "markdown",
   "metadata": {},
   "source": [
    "In a set of transactions, a common point of compromise can be identified when an unusually high number of defrauded accounts transacted with the same merchant some time before fraudulent transactions were seen for that account."
   ]
  },
  {
   "cell_type": "code",
   "execution_count": 12,
   "metadata": {},
   "outputs": [],
   "source": [
    "def estimate_10_day_intervals(input_date):\n",
    "    if input_date < '2015-01-11':\n",
    "        return \"0-10\"\n",
    "    elif input_date < '2015-01-21':\n",
    "        return \"11-20\"\n",
    "    else:\n",
    "        return \"21-30\""
   ]
  },
  {
   "cell_type": "code",
   "execution_count": 13,
   "metadata": {},
   "outputs": [
    {
     "data": {
      "text/html": [
       "<div>\n",
       "<style scoped>\n",
       "    .dataframe tbody tr th:only-of-type {\n",
       "        vertical-align: middle;\n",
       "    }\n",
       "\n",
       "    .dataframe tbody tr th {\n",
       "        vertical-align: top;\n",
       "    }\n",
       "\n",
       "    .dataframe thead th {\n",
       "        text-align: right;\n",
       "    }\n",
       "</style>\n",
       "<table border=\"1\" class=\"dataframe\">\n",
       "  <thead>\n",
       "    <tr style=\"text-align: right;\">\n",
       "      <th></th>\n",
       "      <th>merchant</th>\n",
       "      <th>Number of fraud accounts</th>\n",
       "      <th>Number of accounts (traffic)</th>\n",
       "    </tr>\n",
       "  </thead>\n",
       "  <tbody>\n",
       "    <tr>\n",
       "      <th>0</th>\n",
       "      <td>M48</td>\n",
       "      <td>309</td>\n",
       "      <td>486</td>\n",
       "    </tr>\n",
       "    <tr>\n",
       "      <th>1</th>\n",
       "      <td>M8</td>\n",
       "      <td>300</td>\n",
       "      <td>471</td>\n",
       "    </tr>\n",
       "    <tr>\n",
       "      <th>2</th>\n",
       "      <td>M61</td>\n",
       "      <td>297</td>\n",
       "      <td>483</td>\n",
       "    </tr>\n",
       "    <tr>\n",
       "      <th>3</th>\n",
       "      <td>M79</td>\n",
       "      <td>297</td>\n",
       "      <td>445</td>\n",
       "    </tr>\n",
       "    <tr>\n",
       "      <th>4</th>\n",
       "      <td>M62</td>\n",
       "      <td>297</td>\n",
       "      <td>471</td>\n",
       "    </tr>\n",
       "    <tr>\n",
       "      <th>...</th>\n",
       "      <td>...</td>\n",
       "      <td>...</td>\n",
       "      <td>...</td>\n",
       "    </tr>\n",
       "    <tr>\n",
       "      <th>95</th>\n",
       "      <td>M45</td>\n",
       "      <td>262</td>\n",
       "      <td>442</td>\n",
       "    </tr>\n",
       "    <tr>\n",
       "      <th>96</th>\n",
       "      <td>M14</td>\n",
       "      <td>262</td>\n",
       "      <td>430</td>\n",
       "    </tr>\n",
       "    <tr>\n",
       "      <th>97</th>\n",
       "      <td>M96</td>\n",
       "      <td>260</td>\n",
       "      <td>407</td>\n",
       "    </tr>\n",
       "    <tr>\n",
       "      <th>98</th>\n",
       "      <td>M60</td>\n",
       "      <td>256</td>\n",
       "      <td>441</td>\n",
       "    </tr>\n",
       "    <tr>\n",
       "      <th>99</th>\n",
       "      <td>M0</td>\n",
       "      <td>256</td>\n",
       "      <td>428</td>\n",
       "    </tr>\n",
       "  </tbody>\n",
       "</table>\n",
       "<p>100 rows × 3 columns</p>\n",
       "</div>"
      ],
      "text/plain": [
       "   merchant  Number of fraud accounts  Number of accounts (traffic)\n",
       "0       M48                       309                           486\n",
       "1        M8                       300                           471\n",
       "2       M61                       297                           483\n",
       "3       M79                       297                           445\n",
       "4       M62                       297                           471\n",
       "..      ...                       ...                           ...\n",
       "95      M45                       262                           442\n",
       "96      M14                       262                           430\n",
       "97      M96                       260                           407\n",
       "98      M60                       256                           441\n",
       "99       M0                       256                           428\n",
       "\n",
       "[100 rows x 3 columns]"
      ]
     },
     "execution_count": 13,
     "metadata": {},
     "output_type": "execute_result"
    }
   ],
   "source": [
    "# Defrauded accounts per merchant\n",
    "defrauded_accounts_per_merchant = (transactions[(transactions['date'] < '2015-01-21') & (transactions['account'].isin(defrauded_accounts))].drop_duplicates(subset = ['account', 'merchant']).\n",
    "groupby(['merchant'])['account'].count().reset_index().sort_values('account', ascending = False))\n",
    "defrauded_accounts_per_merchant = defrauded_accounts_per_merchant.rename(columns = {'account' : 'Number of fraud accounts'})\n",
    "# Total accounts per merchant\n",
    "total_accounts_per_merchant = (transactions[(transactions['date'] < '2015-01-21')].drop_duplicates(subset = ['account', 'merchant']).\n",
    "groupby(['merchant'])['account'].count().reset_index().sort_values('account', ascending = False))\n",
    "total_accounts_per_merchant = total_accounts_per_merchant.rename(columns = {'account' : 'Number of accounts (traffic)'})\n",
    "total_accounts_per_merchant\n",
    "# Merge\n",
    "defrauded_accounts_per_merchant = defrauded_accounts_per_merchant.merge(total_accounts_per_merchant, on ='merchant', how = 'left')\n",
    "defrauded_accounts_per_merchant"
   ]
  },
  {
   "cell_type": "code",
   "execution_count": 14,
   "metadata": {},
   "outputs": [
    {
     "name": "stdout",
     "output_type": "stream",
     "text": [
      "(55872, 5)\n",
      "(55066, 5)\n"
     ]
    },
    {
     "name": "stderr",
     "output_type": "stream",
     "text": [
      "/var/folders/k7/gq84mygx18v6xxlmhq1dbfzw0000gp/T/ipykernel_8093/3618845826.py:6: SettingWithCopyWarning: \n",
      "A value is trying to be set on a copy of a slice from a DataFrame.\n",
      "Try using .loc[row_indexer,col_indexer] = value instead\n",
      "\n",
      "See the caveats in the documentation: https://pandas.pydata.org/pandas-docs/stable/user_guide/indexing.html#returning-a-view-versus-a-copy\n",
      "  trans_per_daily[\"10_days_interval\"] = trans_per_daily['date'].apply(lambda x : estimate_10_day_intervals(x))\n"
     ]
    },
    {
     "data": {
      "text/html": [
       "<div>\n",
       "<style scoped>\n",
       "    .dataframe tbody tr th:only-of-type {\n",
       "        vertical-align: middle;\n",
       "    }\n",
       "\n",
       "    .dataframe tbody tr th {\n",
       "        vertical-align: top;\n",
       "    }\n",
       "\n",
       "    .dataframe thead th {\n",
       "        text-align: right;\n",
       "    }\n",
       "</style>\n",
       "<table border=\"1\" class=\"dataframe\">\n",
       "  <thead>\n",
       "    <tr style=\"text-align: right;\">\n",
       "      <th></th>\n",
       "      <th>merchant</th>\n",
       "      <th>0-10</th>\n",
       "      <th>11-20</th>\n",
       "      <th>21-30</th>\n",
       "      <th>diff</th>\n",
       "      <th>percentage_diff (%)</th>\n",
       "      <th>Number of fraud accounts</th>\n",
       "      <th>Number of accounts (traffic)</th>\n",
       "    </tr>\n",
       "  </thead>\n",
       "  <tbody>\n",
       "    <tr>\n",
       "      <th>51</th>\n",
       "      <td>M55</td>\n",
       "      <td>164</td>\n",
       "      <td>216</td>\n",
       "      <td>168</td>\n",
       "      <td>52</td>\n",
       "      <td>31.71</td>\n",
       "      <td>272</td>\n",
       "      <td>434</td>\n",
       "    </tr>\n",
       "    <tr>\n",
       "      <th>43</th>\n",
       "      <td>M48</td>\n",
       "      <td>185</td>\n",
       "      <td>221</td>\n",
       "      <td>190</td>\n",
       "      <td>36</td>\n",
       "      <td>19.46</td>\n",
       "      <td>309</td>\n",
       "      <td>486</td>\n",
       "    </tr>\n",
       "    <tr>\n",
       "      <th>49</th>\n",
       "      <td>M53</td>\n",
       "      <td>171</td>\n",
       "      <td>205</td>\n",
       "      <td>198</td>\n",
       "      <td>34</td>\n",
       "      <td>19.88</td>\n",
       "      <td>290</td>\n",
       "      <td>458</td>\n",
       "    </tr>\n",
       "    <tr>\n",
       "      <th>98</th>\n",
       "      <td>M98</td>\n",
       "      <td>167</td>\n",
       "      <td>201</td>\n",
       "      <td>162</td>\n",
       "      <td>34</td>\n",
       "      <td>20.36</td>\n",
       "      <td>274</td>\n",
       "      <td>431</td>\n",
       "    </tr>\n",
       "    <tr>\n",
       "      <th>26</th>\n",
       "      <td>M32</td>\n",
       "      <td>171</td>\n",
       "      <td>200</td>\n",
       "      <td>187</td>\n",
       "      <td>29</td>\n",
       "      <td>16.96</td>\n",
       "      <td>288</td>\n",
       "      <td>444</td>\n",
       "    </tr>\n",
       "    <tr>\n",
       "      <th>...</th>\n",
       "      <td>...</td>\n",
       "      <td>...</td>\n",
       "      <td>...</td>\n",
       "      <td>...</td>\n",
       "      <td>...</td>\n",
       "      <td>...</td>\n",
       "      <td>...</td>\n",
       "      <td>...</td>\n",
       "    </tr>\n",
       "    <tr>\n",
       "      <th>91</th>\n",
       "      <td>M91</td>\n",
       "      <td>217</td>\n",
       "      <td>187</td>\n",
       "      <td>175</td>\n",
       "      <td>-30</td>\n",
       "      <td>-13.82</td>\n",
       "      <td>294</td>\n",
       "      <td>468</td>\n",
       "    </tr>\n",
       "    <tr>\n",
       "      <th>50</th>\n",
       "      <td>M54</td>\n",
       "      <td>205</td>\n",
       "      <td>169</td>\n",
       "      <td>187</td>\n",
       "      <td>-36</td>\n",
       "      <td>-17.56</td>\n",
       "      <td>279</td>\n",
       "      <td>456</td>\n",
       "    </tr>\n",
       "    <tr>\n",
       "      <th>30</th>\n",
       "      <td>M36</td>\n",
       "      <td>199</td>\n",
       "      <td>159</td>\n",
       "      <td>181</td>\n",
       "      <td>-40</td>\n",
       "      <td>-20.10</td>\n",
       "      <td>278</td>\n",
       "      <td>456</td>\n",
       "    </tr>\n",
       "    <tr>\n",
       "      <th>0</th>\n",
       "      <td>M0</td>\n",
       "      <td>191</td>\n",
       "      <td>150</td>\n",
       "      <td>200</td>\n",
       "      <td>-41</td>\n",
       "      <td>-21.47</td>\n",
       "      <td>256</td>\n",
       "      <td>428</td>\n",
       "    </tr>\n",
       "    <tr>\n",
       "      <th>41</th>\n",
       "      <td>M46</td>\n",
       "      <td>202</td>\n",
       "      <td>160</td>\n",
       "      <td>180</td>\n",
       "      <td>-42</td>\n",
       "      <td>-20.79</td>\n",
       "      <td>279</td>\n",
       "      <td>450</td>\n",
       "    </tr>\n",
       "  </tbody>\n",
       "</table>\n",
       "<p>100 rows × 8 columns</p>\n",
       "</div>"
      ],
      "text/plain": [
       "   merchant  0-10  11-20  21-30  diff  percentage_diff (%)  \\\n",
       "51      M55   164    216    168    52                31.71   \n",
       "43      M48   185    221    190    36                19.46   \n",
       "49      M53   171    205    198    34                19.88   \n",
       "98      M98   167    201    162    34                20.36   \n",
       "26      M32   171    200    187    29                16.96   \n",
       "..      ...   ...    ...    ...   ...                  ...   \n",
       "91      M91   217    187    175   -30               -13.82   \n",
       "50      M54   205    169    187   -36               -17.56   \n",
       "30      M36   199    159    181   -40               -20.10   \n",
       "0        M0   191    150    200   -41               -21.47   \n",
       "41      M46   202    160    180   -42               -20.79   \n",
       "\n",
       "    Number of fraud accounts  Number of accounts (traffic)  \n",
       "51                       272                           434  \n",
       "43                       309                           486  \n",
       "49                       290                           458  \n",
       "98                       274                           431  \n",
       "26                       288                           444  \n",
       "..                       ...                           ...  \n",
       "91                       294                           468  \n",
       "50                       279                           456  \n",
       "30                       278                           456  \n",
       "0                        256                           428  \n",
       "41                       279                           450  \n",
       "\n",
       "[100 rows x 8 columns]"
      ]
     },
     "execution_count": 14,
     "metadata": {},
     "output_type": "execute_result"
    }
   ],
   "source": [
    "# Approach\n",
    "trans_per = transactions[transactions['account'].isin(defrauded_accounts)]  # all transactions of the defruaded accounts (transactions perimeter)\n",
    "print(trans_per.shape)\n",
    "trans_per_daily = trans_per.drop_duplicates(subset = ['account', 'merchant', 'date']) # remove if an account has transacted twice with the merchant\n",
    "print(trans_per_daily.shape)\n",
    "trans_per_daily[\"10_days_interval\"] = trans_per_daily['date'].apply(lambda x : estimate_10_day_intervals(x))\n",
    "pt_ten_days = pd.pivot_table(trans_per_daily, values = 'account', index = 'merchant', columns= '10_days_interval', aggfunc='count')\n",
    "pt_ten_days['diff'] = pt_ten_days[\"11-20\"] - pt_ten_days[\"0-10\"]\n",
    "pt_ten_days['percentage_diff (%)'] = ((pt_ten_days[\"11-20\"] - pt_ten_days[\"0-10\"])/ pt_ten_days[\"0-10\"]) * 100\n",
    "pt_ten_days['percentage_diff (%)'] = pt_ten_days['percentage_diff (%)'].apply(lambda x : round(x,2))\n",
    "pt_ten_days = pt_ten_days.merge(defrauded_accounts_per_merchant, on ='merchant', how = 'left')\n",
    "pt_ten_days.sort_values('diff',ascending = False)\n"
   ]
  },
  {
   "cell_type": "code",
   "execution_count": 15,
   "metadata": {},
   "outputs": [
    {
     "data": {
      "text/plain": [
       "<AxesSubplot: title={'center': 'M55 - Transactions of fraudulent accounts'}, xlabel='date'>"
      ]
     },
     "execution_count": 15,
     "metadata": {},
     "output_type": "execute_result"
    },
    {
     "data": {
      "image/png": "[encoded data removed]",
      "text/plain": [
       "<Figure size 1600x400 with 1 Axes>"
      ]
     },
     "metadata": {},
     "output_type": "display_data"
    }
   ],
   "source": [
    "trans_per_daily[trans_per_daily['merchant'] == 'M55'].groupby(['date'])['account'].count().plot.line(figsize = [16,4], title = \"M55 - Transactions of fraudulent accounts\")"
   ]
  },
  {
   "cell_type": "code",
   "execution_count": 16,
   "metadata": {},
   "outputs": [
    {
     "data": {
      "text/plain": [
       "date\n",
       "2015-01-01    17\n",
       "2015-01-02    20\n",
       "2015-01-03    18\n",
       "2015-01-04     9\n",
       "2015-01-05    14\n",
       "2015-01-06    21\n",
       "2015-01-07    16\n",
       "2015-01-08     9\n",
       "2015-01-09    13\n",
       "2015-01-10    27\n",
       "2015-01-11    28\n",
       "2015-01-12    34\n",
       "2015-01-13    16\n",
       "2015-01-14    18\n",
       "2015-01-15    16\n",
       "2015-01-16    18\n",
       "2015-01-17    20\n",
       "2015-01-18    22\n",
       "2015-01-19    20\n",
       "2015-01-20    24\n",
       "2015-01-21    20\n",
       "2015-01-22    18\n",
       "2015-01-23    21\n",
       "2015-01-24    17\n",
       "2015-01-25    14\n",
       "2015-01-26    19\n",
       "2015-01-27    17\n",
       "2015-01-28    14\n",
       "2015-01-29    16\n",
       "2015-01-30    12\n",
       "Name: account, dtype: int64"
      ]
     },
     "execution_count": 16,
     "metadata": {},
     "output_type": "execute_result"
    }
   ],
   "source": [
    "trans_per_daily[trans_per_daily['merchant'] == 'M55'].groupby(['date'])['account'].count()"
   ]
  },
  {
   "cell_type": "code",
   "execution_count": 167,
   "metadata": {},
   "outputs": [],
   "source": [
    "# # Approach (Failed)\n",
    "# transactions['week'] = transactions['date_as_date'].dt.week\n",
    "# trans_per = transactions[transactions['account'].isin(defrauded_accounts)]  # all transactions of the defruaded accounts\n",
    "# print(trans_per.shape)\n",
    "# trans_per_before_fraud = trans_per[trans_per['week'].isin([1,2,3])]\n",
    "# trans_per_before_fraud\n",
    "# weekly_transactions = pd.pivot_table(trans_per_before_fraud, values = 'account', index= 'merchant', columns='week', aggfunc='count')#.rename(columns = {1: 'week_1', 2: \"week_2\", 3 : \"week_3\"})\n",
    "# weekly_transactions[\"2_weeks_mean\"] = weekly_transactions[[1,2]].mean(axis = 1)\n",
    "# weekly_transactions[\"diff\"] = weekly_transactions[3] - weekly_transactions['2_weeks_mean']\n",
    "# weekly_transactions[\"diff_w3_w2\"] = weekly_transactions[3] - weekly_transactions[2]\n",
    "# weekly_transactions.sort_values(\"diff_w3_w2\", ascending =False).head(30)\n",
    "\n",
    "# # Transaction plots for possible compormise points\n",
    "# trans_per[trans_per['merchant'] == 'M17'].groupby(['date'])['account'].count().plot.line(figsize = [16,4], title = \"M17 Fraudulent transactions\")\n",
    "# trans_per[trans_per['merchant'] == 'M48'].groupby(['date'])['account'].count().plot.line(figsize = [16,4], title = \"M48 Fraudulent transactions\")\n",
    "# trans_per[trans_per['merchant'] == 'M55'].groupby(['date'])['account'].count().plot.line(figsize = [16,4], title = \"M55 Fraudulent transactions\")"
   ]
  }
 ],
 "metadata": {
  "kernelspec": {
   "display_name": "Python 3.8.15 ('outra_kernel')",
   "language": "python",
   "name": "python3"
  },
  "language_info": {
   "codemirror_mode": {
    "name": "ipython",
    "version": 3
   },
   "file_extension": ".py",
   "mimetype": "text/x-python",
   "name": "python",
   "nbconvert_exporter": "python",
   "pygments_lexer": "ipython3",
   "version": "3.8.15"
  },
  "orig_nbformat": 4,
  "vscode": {
   "interpreter": {
    "hash": "ac6d0ce89d6d2751ec6b1b484b3b31307ff8df3f5c85331ec42723d8b35061e6"
   }
  }
 },
 "nbformat": 4,
 "nbformat_minor": 2
}
